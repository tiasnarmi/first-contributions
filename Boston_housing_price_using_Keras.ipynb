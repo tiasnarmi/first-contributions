{
  "nbformat": 4,
  "nbformat_minor": 0,
  "metadata": {
    "colab": {
      "name": "Boston housing price using Keras.ipynb",
      "version": "0.3.2",
      "provenance": [],
      "include_colab_link": true
    },
    "kernelspec": {
      "name": "python3",
      "display_name": "Python 3"
    }
  },
  "cells": [
    {
      "cell_type": "markdown",
      "metadata": {
        "id": "view-in-github",
        "colab_type": "text"
      },
      "source": [
        "<a href=\"https://colab.research.google.com/github/tiasnarmi/first-contributions/blob/master/Boston_housing_price_using_Keras.ipynb\" target=\"_parent\"><img src=\"https://colab.research.google.com/assets/colab-badge.svg\" alt=\"Open In Colab\"/></a>"
      ]
    },
    {
      "cell_type": "code",
      "metadata": {
        "id": "Q30abn7jE6lL",
        "colab_type": "code",
        "colab": {}
      },
      "source": [
        "import tensorflow as tf"
      ],
      "execution_count": 0,
      "outputs": []
    },
    {
      "cell_type": "code",
      "metadata": {
        "id": "G9rflaA9E71-",
        "colab_type": "code",
        "colab": {}
      },
      "source": [
        "#Reset Default graph - Needed only for Jupyter notebook\n",
        "tf.reset_default_graph() # Clears the cache"
      ],
      "execution_count": 0,
      "outputs": []
    },
    {
      "cell_type": "code",
      "metadata": {
        "id": "kR97VwIHE8G_",
        "colab_type": "code",
        "colab": {
          "base_uri": "https://localhost:8080/",
          "height": 51
        },
        "outputId": "b0564129-7e59-4476-d6d6-24ae9b12936e"
      },
      "source": [
        "#Load data\n",
        "(features, actual_prices),_ = tf.keras.datasets.boston_housing.load_data(test_split=0)"
      ],
      "execution_count": 3,
      "outputs": [
        {
          "output_type": "stream",
          "text": [
            "Downloading data from https://storage.googleapis.com/tensorflow/tf-keras-datasets/boston_housing.npz\n",
            "57344/57026 [==============================] - 0s 0us/step\n"
          ],
          "name": "stdout"
        }
      ]
    },
    {
      "cell_type": "code",
      "metadata": {
        "id": "j7SOYhICE8Lj",
        "colab_type": "code",
        "colab": {
          "base_uri": "https://localhost:8080/",
          "height": 68
        },
        "outputId": "3ded0b28-fe2c-4889-edd3-b21b538a8173"
      },
      "source": [
        "print('Number of examples: ', features.shape[0])\n",
        "print('Number of features for each example: ', features.shape[1])\n",
        "print('Shape of actual prices data: ', actual_prices.shape)"
      ],
      "execution_count": 4,
      "outputs": [
        {
          "output_type": "stream",
          "text": [
            "Number of examples:  506\n",
            "Number of features for each example:  13\n",
            "Shape of actual prices data:  (506,)\n"
          ],
          "name": "stdout"
        }
      ]
    },
    {
      "cell_type": "code",
      "metadata": {
        "id": "bVJazE_uE8PP",
        "colab_type": "code",
        "colab": {
          "base_uri": "https://localhost:8080/",
          "height": 139
        },
        "outputId": "a797b1c1-07c2-41d5-add5-06e9e74e7313"
      },
      "source": [
        "# Building the Graph in Keras\n",
        "# Initialize Sequential Graph (Model)\n",
        "\n",
        "model = tf.keras.models.Sequential()\n",
        "\n",
        "#normalize input data with 13 columns or features and n number of rows. \n",
        "model.add(tf.keras.layers.BatchNormalization(input_shape=(13,)))\n",
        "\n",
        "# Add Dense layer for prediction  - Keras declares weights and bias Automatically.\n",
        "# We didnt mention input shape in Dense  - Reason is, Prior node layer knows its gonna get 13 features. \n",
        "model.add(tf.keras.layers.Dense(1))\n",
        "\n",
        "# Compile the model - add loss and GD optimizer\n",
        "\n",
        "model.compile(optimizer='sgd', loss = 'mse')"
      ],
      "execution_count": 9,
      "outputs": [
        {
          "output_type": "stream",
          "text": [
            "WARNING:tensorflow:From /usr/local/lib/python3.6/dist-packages/tensorflow/python/ops/resource_variable_ops.py:435: colocate_with (from tensorflow.python.framework.ops) is deprecated and will be removed in a future version.\n",
            "Instructions for updating:\n",
            "Colocations handled automatically by placer.\n",
            "WARNING:tensorflow:From /usr/local/lib/python3.6/dist-packages/tensorflow/python/keras/utils/losses_utils.py:170: to_float (from tensorflow.python.ops.math_ops) is deprecated and will be removed in a future version.\n",
            "Instructions for updating:\n",
            "Use tf.cast instead.\n"
          ],
          "name": "stdout"
        }
      ]
    },
    {
      "cell_type": "code",
      "metadata": {
        "id": "vuUcK19BE8SQ",
        "colab_type": "code",
        "colab": {
          "base_uri": "https://localhost:8080/",
          "height": 374
        },
        "outputId": "5dc00da2-b5b3-4c45-faaa-0ca2a21c7908"
      },
      "source": [
        "# Execute a graph\n",
        "model.fit(features,actual_prices, epochs=10)\n",
        "\n",
        "# From Tensor flow we had a loss of 84. but Keras gave 24. despite keras use tensor flow internally.\n",
        "\n",
        "# Why such a difference\n",
        "\n",
        "# 1. it takes learning rate default to 0.01. \n",
        "# 2. In tensor flow we initalized the weight. but here we didnt. \n",
        "# Tensor was initialized to 0 which may not be a good starting point. "
      ],
      "execution_count": 19,
      "outputs": [
        {
          "output_type": "stream",
          "text": [
            "Epoch 1/10\n",
            "506/506 [==============================] - 0s 51us/sample - loss: 26.1073\n",
            "Epoch 2/10\n",
            "506/506 [==============================] - 0s 43us/sample - loss: 26.0284\n",
            "Epoch 3/10\n",
            "506/506 [==============================] - 0s 40us/sample - loss: 29.0679\n",
            "Epoch 4/10\n",
            "506/506 [==============================] - 0s 40us/sample - loss: 25.7037\n",
            "Epoch 5/10\n",
            "506/506 [==============================] - 0s 40us/sample - loss: 27.0639\n",
            "Epoch 6/10\n",
            "506/506 [==============================] - 0s 38us/sample - loss: 27.4820\n",
            "Epoch 7/10\n",
            "506/506 [==============================] - 0s 39us/sample - loss: 29.9929\n",
            "Epoch 8/10\n",
            "506/506 [==============================] - 0s 39us/sample - loss: 25.0894\n",
            "Epoch 9/10\n",
            "506/506 [==============================] - 0s 43us/sample - loss: 25.8698\n",
            "Epoch 10/10\n",
            "506/506 [==============================] - 0s 38us/sample - loss: 24.4442\n"
          ],
          "name": "stdout"
        },
        {
          "output_type": "execute_result",
          "data": {
            "text/plain": [
              "<tensorflow.python.keras.callbacks.History at 0x7fca3959bf98>"
            ]
          },
          "metadata": {
            "tags": []
          },
          "execution_count": 19
        }
      ]
    },
    {
      "cell_type": "code",
      "metadata": {
        "id": "aiKL3kwFE8VC",
        "colab_type": "code",
        "colab": {}
      },
      "source": [
        ""
      ],
      "execution_count": 0,
      "outputs": []
    },
    {
      "cell_type": "code",
      "metadata": {
        "id": "HmBILOlhE8Xf",
        "colab_type": "code",
        "colab": {}
      },
      "source": [
        ""
      ],
      "execution_count": 0,
      "outputs": []
    },
    {
      "cell_type": "code",
      "metadata": {
        "id": "GFhIxEzmE8aH",
        "colab_type": "code",
        "colab": {}
      },
      "source": [
        ""
      ],
      "execution_count": 0,
      "outputs": []
    },
    {
      "cell_type": "code",
      "metadata": {
        "id": "0wNwdc_tE8c-",
        "colab_type": "code",
        "colab": {}
      },
      "source": [
        ""
      ],
      "execution_count": 0,
      "outputs": []
    },
    {
      "cell_type": "code",
      "metadata": {
        "id": "UPWJ15fyE8fY",
        "colab_type": "code",
        "colab": {}
      },
      "source": [
        ""
      ],
      "execution_count": 0,
      "outputs": []
    }
  ]
}